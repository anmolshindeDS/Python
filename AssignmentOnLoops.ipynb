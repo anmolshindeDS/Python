{
  "nbformat": 4,
  "nbformat_minor": 0,
  "metadata": {
    "colab": {
      "provenance": []
    },
    "kernelspec": {
      "name": "python3",
      "display_name": "Python 3"
    },
    "language_info": {
      "name": "python"
    }
  },
  "cells": [
    {
      "cell_type": "markdown",
      "source": [
        "Write a program which accepts month's name as input and display the number of days in the month as output"
      ],
      "metadata": {
        "id": "x0Zs97mWPdLI"
      }
    },
    {
      "cell_type": "code",
      "execution_count": 16,
      "metadata": {
        "colab": {
          "base_uri": "https://localhost:8080/"
        },
        "id": "Bh9XHuFIPZGV",
        "outputId": "be148b47-75b9-4022-e3b7-bafee0703074"
      },
      "outputs": [
        {
          "output_type": "stream",
          "name": "stdout",
          "text": [
            "Enter Month: March\n",
            "March has 31 days\n"
          ]
        }
      ],
      "source": [
        "month = str(input(\"Enter Month: \"))\n",
        "\n",
        "if month in (\"January\", \"March\", \"May\", \"July\", \"August\", \"October\", \"December\"):\n",
        "  print(month, \"has 31 days\")\n",
        "\n",
        "elif month in (\"April\", \"June\", \"September\", \"November\"):\n",
        "  print(month, \"has 30 days\")\n",
        "elif month == \"February\":\n",
        "  print(month, \"has 28/29 days\")\n",
        "else:\n",
        "  print(\"Wrong month name\")\n"
      ]
    },
    {
      "cell_type": "markdown",
      "source": [
        "Take any word as input from the user and count the number of vowels in the word"
      ],
      "metadata": {
        "id": "vRMOaDKqPfQ3"
      }
    },
    {
      "cell_type": "code",
      "source": [
        "word = str(input(\"Enter word to check: \"))\n",
        "count=0\n",
        "\n",
        "for i in word:\n",
        "  if i in ('a','e','i','o','u'):\n",
        "    count = count + 1\n",
        "\n",
        "print(\"Count of Vowels in word is: \", count)"
      ],
      "metadata": {
        "colab": {
          "base_uri": "https://localhost:8080/"
        },
        "id": "vVDOE13SPgVu",
        "outputId": "c49e349b-af6d-4e35-8408-3a48df90f8fd"
      },
      "execution_count": 10,
      "outputs": [
        {
          "output_type": "stream",
          "name": "stdout",
          "text": [
            "Enter word to check: aeiou\n",
            "Count of Vowels in word is:  5\n"
          ]
        }
      ]
    },
    {
      "cell_type": "markdown",
      "source": [
        "Write a program to separate even and odd numbers in two distinct lists from a list of numbers of your choice"
      ],
      "metadata": {
        "id": "QB1wg0OBPh-O"
      }
    },
    {
      "cell_type": "code",
      "source": [
        "my_list = [2, 4, 5, 7, 8, 10, 1, 9]\n",
        "even_list=[]\n",
        "odd_list = []\n",
        "\n",
        "for i in my_list:\n",
        "  if i%2==0:\n",
        "    even_list.append(i)\n",
        "  else:\n",
        "    odd_list.append(i)\n",
        "\n",
        "print(\"Even List: \", even_list)\n",
        "print(\"Odd List: \", odd_list)"
      ],
      "metadata": {
        "colab": {
          "base_uri": "https://localhost:8080/"
        },
        "id": "asRfIRlJPiki",
        "outputId": "7fd00141-19d3-461d-ec55-6254fa0f2b9c"
      },
      "execution_count": 11,
      "outputs": [
        {
          "output_type": "stream",
          "name": "stdout",
          "text": [
            "Even List:  [2, 4, 8, 10]\n",
            "Odd List:  [5, 7, 1, 9]\n"
          ]
        }
      ]
    },
    {
      "cell_type": "markdown",
      "source": [
        "Write a program that appends datatype of elements from a list to a separate list"
      ],
      "metadata": {
        "id": "muN8Pez_PjLk"
      }
    },
    {
      "cell_type": "code",
      "source": [
        "my_list1 = ['Anmol', 4, \"true\", [1,2,4]]\n",
        "dataTypes_list = []\n",
        "\n",
        "for i in my_list1:\n",
        "  dataTypes_list.append(type(i))\n",
        "\n",
        "print(dataTypes_list)"
      ],
      "metadata": {
        "colab": {
          "base_uri": "https://localhost:8080/"
        },
        "id": "_413tw4QPlkh",
        "outputId": "4443ea09-4d51-4069-9e8b-eeaff459e371"
      },
      "execution_count": 13,
      "outputs": [
        {
          "output_type": "stream",
          "name": "stdout",
          "text": [
            "[<class 'str'>, <class 'int'>, <class 'str'>, <class 'list'>]\n"
          ]
        }
      ]
    },
    {
      "cell_type": "markdown",
      "source": [
        "Write a program to display only those numbers from a list that satisfies the following conditions:\n",
        "\n",
        "1. The number must be divisible by 7\n",
        "\n",
        "2. If the number is 140 then skip it and move to the next number in the list\n",
        "\n",
        "3. If the number in the list is greater than 630 then stop the loop"
      ],
      "metadata": {
        "id": "O93loSqlPl_M"
      }
    },
    {
      "cell_type": "code",
      "source": [
        "my_list3 = [3, 5, 7, 90, 77, 21, 35, 88, 140, 630, 490, 560, 33, 870, 700, 770]\n",
        "\n",
        "for i in my_list3:\n",
        "  if i>630:\n",
        "    break\n",
        "  elif i==140:\n",
        "    continue\n",
        "  elif i%7==0:\n",
        "    print(i)"
      ],
      "metadata": {
        "colab": {
          "base_uri": "https://localhost:8080/"
        },
        "id": "qerdJeCkTrLx",
        "outputId": "f6937416-65dc-417e-c6d0-d5e7ee937eb8"
      },
      "execution_count": 19,
      "outputs": [
        {
          "output_type": "stream",
          "name": "stdout",
          "text": [
            "7\n",
            "77\n",
            "21\n",
            "35\n",
            "630\n",
            "490\n",
            "560\n"
          ]
        }
      ]
    }
  ]
}