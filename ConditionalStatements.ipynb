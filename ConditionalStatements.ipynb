{
  "nbformat": 4,
  "nbformat_minor": 0,
  "metadata": {
    "colab": {
      "provenance": []
    },
    "kernelspec": {
      "name": "python3",
      "display_name": "Python 3"
    },
    "language_info": {
      "name": "python"
    }
  },
  "cells": [
    {
      "cell_type": "markdown",
      "source": [
        "Given two numbers \"X\" and \"Y\", display the greater out of the two numbers"
      ],
      "metadata": {
        "id": "Vt17CsTx7m9_"
      }
    },
    {
      "cell_type": "code",
      "execution_count": null,
      "metadata": {
        "colab": {
          "base_uri": "https://localhost:8080/"
        },
        "id": "lBuIdUTvR2Ds",
        "outputId": "dffee497-dba0-4706-fa36-fd14047e45dd"
      },
      "outputs": [
        {
          "output_type": "stream",
          "name": "stdout",
          "text": [
            "Enter value of X: 4\n",
            "Enter value of Y: 10\n",
            "Y is greater than X\n"
          ]
        }
      ],
      "source": [
        "x=int(input(\"Enter value of X: \"))\n",
        "y=int(input(\"Enter value of Y: \"))\n",
        "if x>y:\n",
        "  print(\"X is greater than Y\")\n",
        "else:\n",
        "  print(\"Y is greater than X\")"
      ]
    },
    {
      "cell_type": "code",
      "source": [
        "x=int(input(\"Enter value of X: \"))\n",
        "y=int(input(\"Enter value of Y: \"))\n",
        "if x>y:\n",
        "  print(\"X is greater than Y\")\n",
        "elif x==y:\n",
        "  print(\"X is equal to Y\")\n",
        "else:\n",
        "  print(\"Y is greater than X\")"
      ],
      "metadata": {
        "colab": {
          "base_uri": "https://localhost:8080/"
        },
        "id": "U9r55Ksc7vrF",
        "outputId": "6412569a-100c-455b-9523-c29bb2b31c3d"
      },
      "execution_count": null,
      "outputs": [
        {
          "output_type": "stream",
          "name": "stdout",
          "text": [
            "Enter value of X: 5\n",
            "Enter value of Y: 5\n",
            "X is equal to Y\n"
          ]
        }
      ]
    },
    {
      "cell_type": "markdown",
      "source": [
        "In a fare, the entry ticket price for children less than 4 years of age is 0 INR, price for children in the age 4-16 years is 100 INR and for people grater than 16 years of age, the price is 170 INR.\n",
        "\n",
        "Take age as input from the user and display the ticket price of the user"
      ],
      "metadata": {
        "id": "9V8tziCU94Sb"
      }
    },
    {
      "cell_type": "code",
      "source": [
        "age = int(input(\"Enter the age of Children: \"))\n",
        "\n",
        "if age<4:\n",
        "  print(\"Children's age is less than 4 yrs. No ticket required\")\n",
        "elif 4<=age<=16:\n",
        "  print(\"Children's age is between 4-16 yrs. Ticket cost is 100 INR\")\n",
        "else:\n",
        "  print(\"Children's age is more than 16 yrs. Ticket cost is 170 INR\")"
      ],
      "metadata": {
        "colab": {
          "base_uri": "https://localhost:8080/"
        },
        "id": "D2LNle5Z9qZk",
        "outputId": "4ffdc2e6-b3c9-451e-fd8f-e224a4e49353"
      },
      "execution_count": null,
      "outputs": [
        {
          "output_type": "stream",
          "name": "stdout",
          "text": [
            "Enter the age of Children: 22\n",
            "Children's age is more than 16 yrs. Ticket cost is 170 INR\n"
          ]
        }
      ]
    },
    {
      "cell_type": "markdown",
      "source": [
        "Take a number as an input from user and check if the number is even or odd"
      ],
      "metadata": {
        "id": "7awTObQQV5OL"
      }
    },
    {
      "cell_type": "code",
      "source": [
        "num = int(input(\"Enter number: \"))\n",
        "\n",
        "if num%2==0:\n",
        "  print(\"Number is even\")\n",
        "else:\n",
        "  print(\"Number is odd\")\n"
      ],
      "metadata": {
        "colab": {
          "base_uri": "https://localhost:8080/"
        },
        "id": "MIpwyioNV_Md",
        "outputId": "a0d00599-a6e4-41d8-bce2-178c585a3b35"
      },
      "execution_count": null,
      "outputs": [
        {
          "output_type": "stream",
          "name": "stdout",
          "text": [
            "Enter number: 66\n",
            "Number is even\n"
          ]
        }
      ]
    },
    {
      "cell_type": "markdown",
      "source": [
        "Take length and breadth of rectangle as input from user and check if the rectangle is a square or not"
      ],
      "metadata": {
        "id": "LTNd_Ve1WW26"
      }
    },
    {
      "cell_type": "code",
      "source": [
        "length= int(input(\"Enter length of the Rectangle\"))\n",
        "breadth = int(input(\"Enter breadth of the rectangle\"))\n",
        "\n",
        "if length==breadth:\n",
        "  print(\"Rectangle is square\")\n",
        "else:\n",
        " print(\"Rectangle is not square\")"
      ],
      "metadata": {
        "colab": {
          "base_uri": "https://localhost:8080/"
        },
        "id": "vygEVgpWXPaE",
        "outputId": "1065c911-fefe-4a21-ab40-38dd9b3ae924"
      },
      "execution_count": null,
      "outputs": [
        {
          "output_type": "stream",
          "name": "stdout",
          "text": [
            "Enter length of the Rectangle5\n",
            "Enter breadth of the rectangle5\n",
            "Rectangle is square\n"
          ]
        }
      ]
    },
    {
      "cell_type": "markdown",
      "source": [
        "The owner of the company decides to give 5% bonus who have been working for his organization for more than 5 years or more.\n",
        "\n",
        "Take current salary and years of experience with the current organization as input from user and display the incremented salary of the employee."
      ],
      "metadata": {
        "id": "qNMUiprHYFFG"
      }
    },
    {
      "cell_type": "code",
      "source": [
        "salary = int(input(\"Enter salary of the employee: \"))\n",
        "experience = int(input(\"Enter years of experience: \"))\n",
        "\n",
        "if experience >= 5:\n",
        "  print(\"Your incremented salary is: \", salary + (salary*5//100))\n",
        "else:\n",
        "  print(\"Not eligible for increment, your salary is: \", salary)"
      ],
      "metadata": {
        "colab": {
          "base_uri": "https://localhost:8080/"
        },
        "id": "LKPunr4EYdsF",
        "outputId": "0318642f-3938-4162-eb9e-f264362e9ab8"
      },
      "execution_count": null,
      "outputs": [
        {
          "output_type": "stream",
          "name": "stdout",
          "text": [
            "Enter salary of the employee: 1200\n",
            "Enter years of experience: 4\n",
            "Not eligible for increment, your salary is:  1200\n"
          ]
        }
      ]
    },
    {
      "cell_type": "markdown",
      "source": [
        "Grocery store allows discount of 20% on items purchased worth more than 2000 INR. Considering the price of each commodity to be 200 INR, calculate the discounted price to be paid at the end.\n",
        "\n",
        "Take number of commodities purchased as input from user"
      ],
      "metadata": {
        "id": "duBAXXtycPAj"
      }
    },
    {
      "cell_type": "code",
      "source": [
        "items = int(input(\"Commodities purchased by User: \"))\n",
        "bill_amount=items*200\n",
        "\n",
        "if bill_amount>=2000:\n",
        "  print(\"Final Bill Amount with discount is: \", bill_amount-0.2*bill_amount)\n",
        "else:\n",
        "  print(\"No Discount for bill amount which is less than 2000 Rs.\")"
      ],
      "metadata": {
        "colab": {
          "base_uri": "https://localhost:8080/"
        },
        "id": "ivLetka0ci26",
        "outputId": "950f04d3-3839-44eb-8982-2cbfbd73749e"
      },
      "execution_count": null,
      "outputs": [
        {
          "output_type": "stream",
          "name": "stdout",
          "text": [
            "Commodities purchased by User: 12\n",
            "Final Bill Amount with discount is:  1920.0\n"
          ]
        }
      ]
    }
  ]
}