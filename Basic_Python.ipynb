{
  "nbformat": 4,
  "nbformat_minor": 0,
  "metadata": {
    "colab": {
      "provenance": []
    },
    "kernelspec": {
      "name": "python3",
      "display_name": "Python 3"
    },
    "language_info": {
      "name": "python"
    }
  },
  "cells": [
    {
      "cell_type": "markdown",
      "source": [
        "Basic Python program of Integer"
      ],
      "metadata": {
        "id": "8wEVRSbfymRR"
      }
    },
    {
      "cell_type": "code",
      "execution_count": null,
      "metadata": {
        "colab": {
          "base_uri": "https://localhost:8080/"
        },
        "id": "S0DzGsqdwWjY",
        "outputId": "44a64410-9ee3-4166-fa2e-2acd1586bf0a"
      },
      "outputs": [
        {
          "output_type": "stream",
          "name": "stdout",
          "text": [
            "5\n"
          ]
        },
        {
          "output_type": "execute_result",
          "data": {
            "text/plain": [
              "int"
            ]
          },
          "metadata": {},
          "execution_count": 5
        }
      ],
      "source": [
        "a =5\n",
        "print(a)\n",
        "type(a)"
      ]
    },
    {
      "cell_type": "markdown",
      "source": [
        "Basic Python program of String"
      ],
      "metadata": {
        "id": "M6ImZNydyu9G"
      }
    },
    {
      "cell_type": "code",
      "source": [
        "name = \"Anmol\"\n",
        "print(name)\n",
        "type(name)"
      ],
      "metadata": {
        "colab": {
          "base_uri": "https://localhost:8080/"
        },
        "id": "I4PRsBSGxhKg",
        "outputId": "2c06fd95-764f-4521-f29f-e96f20546bde"
      },
      "execution_count": null,
      "outputs": [
        {
          "output_type": "stream",
          "name": "stdout",
          "text": [
            "Anmol\n"
          ]
        },
        {
          "output_type": "execute_result",
          "data": {
            "text/plain": [
              "str"
            ]
          },
          "metadata": {},
          "execution_count": 6
        }
      ]
    },
    {
      "cell_type": "code",
      "source": [
        "AL=[\"anmol\", 7, \"feb\", -9]"
      ],
      "metadata": {
        "id": "o4esqiXg3B1o"
      },
      "execution_count": null,
      "outputs": []
    },
    {
      "cell_type": "code",
      "source": [
        "print(AL)\n",
        "type(AL)"
      ],
      "metadata": {
        "colab": {
          "base_uri": "https://localhost:8080/"
        },
        "id": "yrn-oKDb3M_W",
        "outputId": "5b94c82e-6274-41f4-9770-e4fcf1790120"
      },
      "execution_count": null,
      "outputs": [
        {
          "output_type": "stream",
          "name": "stdout",
          "text": [
            "['anmol', 7, 'feb', -9]\n"
          ]
        },
        {
          "output_type": "execute_result",
          "data": {
            "text/plain": [
              "list"
            ]
          },
          "metadata": {},
          "execution_count": 24
        }
      ]
    },
    {
      "cell_type": "markdown",
      "source": [
        "Input function with Typecasting"
      ],
      "metadata": {
        "id": "5kEMCRIjyyTe"
      }
    },
    {
      "cell_type": "code",
      "source": [
        "otp = int(input(\"Enter OTP\"))"
      ],
      "metadata": {
        "colab": {
          "base_uri": "https://localhost:8080/"
        },
        "id": "MOLG_p9AxtCV",
        "outputId": "26321f5a-cb39-4f81-c1fd-db6e0bf59286"
      },
      "execution_count": null,
      "outputs": [
        {
          "name": "stdout",
          "output_type": "stream",
          "text": [
            "Enter OTP45263\n"
          ]
        }
      ]
    },
    {
      "cell_type": "markdown",
      "source": [
        "print saved values taken from user"
      ],
      "metadata": {
        "id": "5MW2mMBMy3kT"
      }
    },
    {
      "cell_type": "code",
      "source": [
        "print(otp)\n",
        "type(otp)"
      ],
      "metadata": {
        "colab": {
          "base_uri": "https://localhost:8080/"
        },
        "id": "GhPSE93ox1vI",
        "outputId": "d7947e9c-0d26-4663-c459-496925a252c0"
      },
      "execution_count": null,
      "outputs": [
        {
          "output_type": "stream",
          "name": "stdout",
          "text": [
            "45263\n"
          ]
        },
        {
          "output_type": "execute_result",
          "data": {
            "text/plain": [
              "int"
            ]
          },
          "metadata": {},
          "execution_count": 10
        }
      ]
    },
    {
      "cell_type": "markdown",
      "source": [
        "Mathematical Operators\n",
        "+,-,*,/,//,*,%"
      ],
      "metadata": {
        "id": "8C30dl9F1el1"
      }
    },
    {
      "cell_type": "code",
      "source": [
        "a=10\n",
        "b=3"
      ],
      "metadata": {
        "id": "L3cFvsku1o7s"
      },
      "execution_count": null,
      "outputs": []
    },
    {
      "cell_type": "code",
      "source": [
        "a+b"
      ],
      "metadata": {
        "colab": {
          "base_uri": "https://localhost:8080/"
        },
        "id": "O3WZOwun1ufq",
        "outputId": "94263076-9d31-4d61-870f-a4522b5b2c6e"
      },
      "execution_count": null,
      "outputs": [
        {
          "output_type": "execute_result",
          "data": {
            "text/plain": [
              "13"
            ]
          },
          "metadata": {},
          "execution_count": 12
        }
      ]
    },
    {
      "cell_type": "code",
      "source": [
        "a-b"
      ],
      "metadata": {
        "colab": {
          "base_uri": "https://localhost:8080/"
        },
        "id": "KrdjKpPI1xmN",
        "outputId": "ca15219d-2569-4d90-9ccb-a8c7ec0e6bfa"
      },
      "execution_count": null,
      "outputs": [
        {
          "output_type": "execute_result",
          "data": {
            "text/plain": [
              "7"
            ]
          },
          "metadata": {},
          "execution_count": 13
        }
      ]
    },
    {
      "cell_type": "code",
      "source": [
        "a*b"
      ],
      "metadata": {
        "colab": {
          "base_uri": "https://localhost:8080/"
        },
        "id": "JHdARXpg1zCl",
        "outputId": "b6a98ca4-6b5c-4337-9dcd-8c22b545c641"
      },
      "execution_count": null,
      "outputs": [
        {
          "output_type": "execute_result",
          "data": {
            "text/plain": [
              "30"
            ]
          },
          "metadata": {},
          "execution_count": 14
        }
      ]
    },
    {
      "cell_type": "code",
      "source": [
        "a/b"
      ],
      "metadata": {
        "colab": {
          "base_uri": "https://localhost:8080/"
        },
        "id": "cA0PwiVQ126H",
        "outputId": "e9f098bb-d06a-4933-cbbb-8feefee70eec"
      },
      "execution_count": null,
      "outputs": [
        {
          "output_type": "execute_result",
          "data": {
            "text/plain": [
              "3.3333333333333335"
            ]
          },
          "metadata": {},
          "execution_count": 16
        }
      ]
    },
    {
      "cell_type": "code",
      "source": [
        "a//b"
      ],
      "metadata": {
        "colab": {
          "base_uri": "https://localhost:8080/"
        },
        "id": "BgZZ7SVV15uE",
        "outputId": "4c89bc67-a3fa-489b-abe9-6a6a4987ff0b"
      },
      "execution_count": null,
      "outputs": [
        {
          "output_type": "execute_result",
          "data": {
            "text/plain": [
              "3"
            ]
          },
          "metadata": {},
          "execution_count": 17
        }
      ]
    },
    {
      "cell_type": "code",
      "source": [
        "a%b"
      ],
      "metadata": {
        "colab": {
          "base_uri": "https://localhost:8080/"
        },
        "id": "via9o8Gq18ez",
        "outputId": "a516d8de-d89a-4dfa-d4cd-3eefce72d586"
      },
      "execution_count": null,
      "outputs": [
        {
          "output_type": "execute_result",
          "data": {
            "text/plain": [
              "1"
            ]
          },
          "metadata": {},
          "execution_count": 18
        }
      ]
    },
    {
      "cell_type": "markdown",
      "source": [
        "Compute 2 power to 5"
      ],
      "metadata": {
        "id": "I6W2vZKD2Ow3"
      }
    },
    {
      "cell_type": "code",
      "source": [
        "print(2**5)"
      ],
      "metadata": {
        "colab": {
          "base_uri": "https://localhost:8080/"
        },
        "id": "pNJUsyWu2SXc",
        "outputId": "e96a4b86-6475-44fd-8805-f52c68d2dd1a"
      },
      "execution_count": null,
      "outputs": [
        {
          "output_type": "stream",
          "name": "stdout",
          "text": [
            "32\n"
          ]
        }
      ]
    },
    {
      "cell_type": "markdown",
      "source": [
        "Operations on strings and lists\n",
        "1. Concatination\n",
        "2. Indexing\n",
        "3. Slicing"
      ],
      "metadata": {
        "id": "-rRZqDWu3YpT"
      }
    },
    {
      "cell_type": "code",
      "source": [
        "#concatination using string\n",
        "\n",
        "a='Indian'\n",
        "b='Ocean'\n",
        "\n",
        "print(a+b)"
      ],
      "metadata": {
        "colab": {
          "base_uri": "https://localhost:8080/"
        },
        "id": "JXAdQzYC3l96",
        "outputId": "df21f4de-0263-41e8-b87c-00d9079eff16"
      },
      "execution_count": null,
      "outputs": [
        {
          "output_type": "stream",
          "name": "stdout",
          "text": [
            "IndianOcean\n"
          ]
        }
      ]
    },
    {
      "cell_type": "code",
      "source": [
        "#space between indian and ocean\n",
        "print(a + \" \" + b)"
      ],
      "metadata": {
        "colab": {
          "base_uri": "https://localhost:8080/"
        },
        "id": "SSVLQYIF7Bh8",
        "outputId": "10013f18-7918-4cfe-8cf6-a168ae363240"
      },
      "execution_count": null,
      "outputs": [
        {
          "output_type": "stream",
          "name": "stdout",
          "text": [
            "Indian Ocean\n"
          ]
        }
      ]
    },
    {
      "cell_type": "code",
      "source": [
        "#Concatination using List\n",
        "\n",
        "L1 =[1,2,3,4,5]\n",
        "L2 =[\"AI\",\"ML\",\"CV\",\"NLP\",\"Python\"]\n",
        "\n",
        "print(L1+L2)"
      ],
      "metadata": {
        "colab": {
          "base_uri": "https://localhost:8080/"
        },
        "id": "fNsR6hQ66viV",
        "outputId": "5c2be46c-20f4-4255-cadd-7665ad6b7818"
      },
      "execution_count": null,
      "outputs": [
        {
          "output_type": "stream",
          "name": "stdout",
          "text": [
            "[1, 2, 3, 4, 5, 'AI', 'ML', 'CV', 'NLP', 'Python']\n"
          ]
        }
      ]
    },
    {
      "cell_type": "code",
      "source": [
        "print(L2+L1)"
      ],
      "metadata": {
        "colab": {
          "base_uri": "https://localhost:8080/"
        },
        "id": "PqCLnGhG7PPS",
        "outputId": "e7539fd0-f426-4c2a-dd6a-47ebb1810117"
      },
      "execution_count": null,
      "outputs": [
        {
          "output_type": "stream",
          "name": "stdout",
          "text": [
            "['AI', 'ML', 'CV', 'NLP', 'Python', 1, 2, 3, 4, 5]\n"
          ]
        }
      ]
    },
    {
      "cell_type": "code",
      "source": [
        "#Concatination with Input function\n",
        "\n",
        "name=input(\"Enter your name\")\n",
        "a=\"Hi\"\n",
        "b=\"Good Morning\"\n",
        "c=\"How are you ?\"\n",
        "\n",
        "print(a + \" \" + name + \",\" + \" \" +  b + \"\\n\" + c)"
      ],
      "metadata": {
        "colab": {
          "base_uri": "https://localhost:8080/"
        },
        "id": "n3HC7Wbz7WeZ",
        "outputId": "d4de84ba-b22a-4adb-9619-6a414d639f27"
      },
      "execution_count": null,
      "outputs": [
        {
          "output_type": "stream",
          "name": "stdout",
          "text": [
            "Enter your nameAnmol\n",
            "Hi Anmol, Good Morning\n",
            "How are you ?\n"
          ]
        }
      ]
    },
    {
      "cell_type": "code",
      "source": [
        "#Indexing and slicing\n",
        "\n",
        "q=\"United Nations\""
      ],
      "metadata": {
        "id": "qg0WLKQf8Vv3"
      },
      "execution_count": null,
      "outputs": []
    },
    {
      "cell_type": "code",
      "source": [
        "q[0:4]"
      ],
      "metadata": {
        "colab": {
          "base_uri": "https://localhost:8080/",
          "height": 36
        },
        "id": "nF977-syTZem",
        "outputId": "37f4d13c-44d7-47e4-ad85-c0221deb57ce"
      },
      "execution_count": null,
      "outputs": [
        {
          "output_type": "execute_result",
          "data": {
            "text/plain": [
              "'Unit'"
            ],
            "application/vnd.google.colaboratory.intrinsic+json": {
              "type": "string"
            }
          },
          "metadata": {},
          "execution_count": 38
        }
      ]
    },
    {
      "cell_type": "code",
      "source": [
        "q[-9]"
      ],
      "metadata": {
        "colab": {
          "base_uri": "https://localhost:8080/",
          "height": 36
        },
        "id": "aeo1zgjSTc8M",
        "outputId": "8ef90802-c38f-47dd-9bb4-a91c7afa6ba0"
      },
      "execution_count": null,
      "outputs": [
        {
          "output_type": "execute_result",
          "data": {
            "text/plain": [
              "'d'"
            ],
            "application/vnd.google.colaboratory.intrinsic+json": {
              "type": "string"
            }
          },
          "metadata": {},
          "execution_count": 39
        }
      ]
    },
    {
      "cell_type": "code",
      "source": [
        "q[6]"
      ],
      "metadata": {
        "colab": {
          "base_uri": "https://localhost:8080/",
          "height": 36
        },
        "id": "7cHu3SkkUb2L",
        "outputId": "dfd9918d-8640-426c-9cca-b3fea7207c4f"
      },
      "execution_count": null,
      "outputs": [
        {
          "output_type": "execute_result",
          "data": {
            "text/plain": [
              "' '"
            ],
            "application/vnd.google.colaboratory.intrinsic+json": {
              "type": "string"
            }
          },
          "metadata": {},
          "execution_count": 41
        }
      ]
    },
    {
      "cell_type": "code",
      "source": [
        "q[-9:]"
      ],
      "metadata": {
        "colab": {
          "base_uri": "https://localhost:8080/",
          "height": 36
        },
        "id": "deViGpZ2Ugzt",
        "outputId": "b2f4971f-5336-4afd-f758-9178b503c58a"
      },
      "execution_count": null,
      "outputs": [
        {
          "output_type": "execute_result",
          "data": {
            "text/plain": [
              "'d Nations'"
            ],
            "application/vnd.google.colaboratory.intrinsic+json": {
              "type": "string"
            }
          },
          "metadata": {},
          "execution_count": 42
        }
      ]
    },
    {
      "cell_type": "code",
      "source": [
        "q[5:10]"
      ],
      "metadata": {
        "colab": {
          "base_uri": "https://localhost:8080/",
          "height": 36
        },
        "id": "6gdm5P3HUjXY",
        "outputId": "130135ab-d0a2-4a2d-acb7-9d8b74c40799"
      },
      "execution_count": null,
      "outputs": [
        {
          "output_type": "execute_result",
          "data": {
            "text/plain": [
              "'d Nat'"
            ],
            "application/vnd.google.colaboratory.intrinsic+json": {
              "type": "string"
            }
          },
          "metadata": {},
          "execution_count": 43
        }
      ]
    },
    {
      "cell_type": "code",
      "source": [
        "q[:-3]"
      ],
      "metadata": {
        "colab": {
          "base_uri": "https://localhost:8080/",
          "height": 36
        },
        "id": "O8cHP-OmUl53",
        "outputId": "2d7df90d-032b-45df-d824-030d68cc1169"
      },
      "execution_count": null,
      "outputs": [
        {
          "output_type": "execute_result",
          "data": {
            "text/plain": [
              "'United Nati'"
            ],
            "application/vnd.google.colaboratory.intrinsic+json": {
              "type": "string"
            }
          },
          "metadata": {},
          "execution_count": 44
        }
      ]
    },
    {
      "cell_type": "code",
      "source": [
        "q[:]"
      ],
      "metadata": {
        "colab": {
          "base_uri": "https://localhost:8080/",
          "height": 36
        },
        "id": "-VVQP8aSUozi",
        "outputId": "5d015089-4ef6-4f06-e5c1-849af7607918"
      },
      "execution_count": null,
      "outputs": [
        {
          "output_type": "execute_result",
          "data": {
            "text/plain": [
              "'United Nations'"
            ],
            "application/vnd.google.colaboratory.intrinsic+json": {
              "type": "string"
            }
          },
          "metadata": {},
          "execution_count": 45
        }
      ]
    },
    {
      "cell_type": "code",
      "source": [
        "q[6:]"
      ],
      "metadata": {
        "colab": {
          "base_uri": "https://localhost:8080/",
          "height": 36
        },
        "id": "1AmQI40hUsD4",
        "outputId": "d8c48e3b-2d08-42d3-f8fa-ee2af633494f"
      },
      "execution_count": null,
      "outputs": [
        {
          "output_type": "execute_result",
          "data": {
            "text/plain": [
              "' Nations'"
            ],
            "application/vnd.google.colaboratory.intrinsic+json": {
              "type": "string"
            }
          },
          "metadata": {},
          "execution_count": 46
        }
      ]
    },
    {
      "cell_type": "code",
      "source": [
        "q[-6:]"
      ],
      "metadata": {
        "colab": {
          "base_uri": "https://localhost:8080/",
          "height": 36
        },
        "id": "D0N5NzaPUv5B",
        "outputId": "62f96151-ebdd-4b53-8385-8ef4b61023a0"
      },
      "execution_count": null,
      "outputs": [
        {
          "output_type": "execute_result",
          "data": {
            "text/plain": [
              "'ations'"
            ],
            "application/vnd.google.colaboratory.intrinsic+json": {
              "type": "string"
            }
          },
          "metadata": {},
          "execution_count": 47
        }
      ]
    },
    {
      "cell_type": "code",
      "source": [
        "q[-11:-1]"
      ],
      "metadata": {
        "colab": {
          "base_uri": "https://localhost:8080/",
          "height": 36
        },
        "id": "LWHQfZ3AUyqz",
        "outputId": "7e82d6fd-99af-47e3-f696-5d1baabd967c"
      },
      "execution_count": null,
      "outputs": [
        {
          "output_type": "execute_result",
          "data": {
            "text/plain": [
              "'ted Nation'"
            ],
            "application/vnd.google.colaboratory.intrinsic+json": {
              "type": "string"
            }
          },
          "metadata": {},
          "execution_count": 48
        }
      ]
    },
    {
      "cell_type": "code",
      "source": [
        "L1 =[\"India\", \"Bangladesh\", \"China\", \"Nepal\", 90, 20, 80, 30, 100, \"Texas\", \"California\", \"New Jersey\"]"
      ],
      "metadata": {
        "id": "30F5CWIWXS6E"
      },
      "execution_count": null,
      "outputs": []
    },
    {
      "cell_type": "code",
      "source": [
        "#[China, Nepal, 90, 20, 80]\n",
        "\n",
        "L1[2:7]"
      ],
      "metadata": {
        "colab": {
          "base_uri": "https://localhost:8080/"
        },
        "id": "X6EzURPzXlx7",
        "outputId": "32d8dffb-fed0-4cc4-b1e2-a8505c600b2d"
      },
      "execution_count": null,
      "outputs": [
        {
          "output_type": "execute_result",
          "data": {
            "text/plain": [
              "['China', 'Nepal', 90, 20, 80]"
            ]
          },
          "metadata": {},
          "execution_count": 50
        }
      ]
    },
    {
      "cell_type": "code",
      "source": [
        "#[100, Texas, California, New Jersey]\n",
        "\n",
        "L1[8:]"
      ],
      "metadata": {
        "colab": {
          "base_uri": "https://localhost:8080/"
        },
        "id": "okj29AZ-YSz_",
        "outputId": "2f980c09-6f24-42b9-86ac-f9b9c50f445a"
      },
      "execution_count": null,
      "outputs": [
        {
          "output_type": "execute_result",
          "data": {
            "text/plain": [
              "[100, 'Texas', 'California', 'New Jersey']"
            ]
          },
          "metadata": {},
          "execution_count": 51
        }
      ]
    },
    {
      "cell_type": "code",
      "source": [
        "L2 =[\"India\", \"Bangladesh\", \"China\", \"Nepal\", 90, 20, 80, 30, 100, \"Texas\", \"California\", \"New Jersey\"]"
      ],
      "metadata": {
        "id": "keoyls2WZDNP"
      },
      "execution_count": null,
      "outputs": []
    },
    {
      "cell_type": "code",
      "source": [
        "# Output should be [\"Bangladesh\", \"China\", \"Nepal\", \"Texas\", \"California\", \"New Jersey\"]\n",
        "L3=L2[1:4]\n",
        "L4=L2[9:]\n",
        "\n",
        "print(L3+L4)"
      ],
      "metadata": {
        "colab": {
          "base_uri": "https://localhost:8080/"
        },
        "id": "kchfapovZOeR",
        "outputId": "302025b6-6c22-4042-dc6a-e9c9debbe51d"
      },
      "execution_count": null,
      "outputs": [
        {
          "output_type": "stream",
          "name": "stdout",
          "text": [
            "['Bangladesh', 'China', 'Nepal', 'Texas', 'California', 'New Jersey']\n"
          ]
        }
      ]
    },
    {
      "cell_type": "code",
      "source": [
        "#Nested List\n",
        "\n",
        "NL1 = [20,25,60, -45,[\"Delhi\", \"Mumbai\", \"Pune\", \"Vellore\"]]"
      ],
      "metadata": {
        "id": "LtzY6JiJlCbw"
      },
      "execution_count": null,
      "outputs": []
    },
    {
      "cell_type": "code",
      "source": [
        "# Output should be Mumbai\n",
        "\n",
        "NL1[4][1]"
      ],
      "metadata": {
        "colab": {
          "base_uri": "https://localhost:8080/",
          "height": 36
        },
        "id": "hiyzdQsNlOmN",
        "outputId": "ac035edc-d478-4b16-9217-aabd7df6a6de"
      },
      "execution_count": null,
      "outputs": [
        {
          "output_type": "execute_result",
          "data": {
            "text/plain": [
              "'Mumbai'"
            ],
            "application/vnd.google.colaboratory.intrinsic+json": {
              "type": "string"
            }
          },
          "metadata": {},
          "execution_count": 68
        }
      ]
    },
    {
      "cell_type": "code",
      "source": [
        "# Output should be Vellore\n",
        "\n",
        "NL1[4][3]"
      ],
      "metadata": {
        "colab": {
          "base_uri": "https://localhost:8080/",
          "height": 36
        },
        "id": "82s2EmiBlgwF",
        "outputId": "12e50e15-18bb-445e-92f1-5baae1d04734"
      },
      "execution_count": null,
      "outputs": [
        {
          "output_type": "execute_result",
          "data": {
            "text/plain": [
              "'Vellore'"
            ],
            "application/vnd.google.colaboratory.intrinsic+json": {
              "type": "string"
            }
          },
          "metadata": {},
          "execution_count": 74
        }
      ]
    },
    {
      "cell_type": "code",
      "source": [
        "#Slicing in nested list\n",
        "\n",
        "NL1[4][:]"
      ],
      "metadata": {
        "colab": {
          "base_uri": "https://localhost:8080/"
        },
        "id": "PlmYFUBwlnB5",
        "outputId": "e11e8226-99a8-418f-8f4f-5018af957f8a"
      },
      "execution_count": null,
      "outputs": [
        {
          "output_type": "execute_result",
          "data": {
            "text/plain": [
              "['Delhi', 'Mumbai', 'Pune', 'Vellore']"
            ]
          },
          "metadata": {},
          "execution_count": 75
        }
      ]
    },
    {
      "cell_type": "code",
      "source": [
        "NL1[4][0:2]"
      ],
      "metadata": {
        "colab": {
          "base_uri": "https://localhost:8080/"
        },
        "id": "OVT_AcYlmSl8",
        "outputId": "30090222-7f49-44eb-f6be-33687d05f5f4"
      },
      "execution_count": null,
      "outputs": [
        {
          "output_type": "execute_result",
          "data": {
            "text/plain": [
              "['Delhi', 'Mumbai']"
            ]
          },
          "metadata": {},
          "execution_count": 76
        }
      ]
    },
    {
      "cell_type": "code",
      "source": [
        "#output should be 20, 25, Delhi, Mumbai\n",
        "Output1 = NL1[:2]\n",
        "Output2 = NL1[4][:2]\n",
        "\n",
        "print(Output1 + Output2)"
      ],
      "metadata": {
        "colab": {
          "base_uri": "https://localhost:8080/"
        },
        "id": "n8yYshqmmdaD",
        "outputId": "43bdf8a5-9cf0-49d3-8f0f-e203b91342c6"
      },
      "execution_count": null,
      "outputs": [
        {
          "output_type": "stream",
          "name": "stdout",
          "text": [
            "[20, 25, 'Delhi', 'Mumbai']\n"
          ]
        }
      ]
    },
    {
      "cell_type": "markdown",
      "source": [
        "Built in functions for Strings and Lists"
      ],
      "metadata": {
        "id": "E7BTGKlsqux4"
      }
    },
    {
      "cell_type": "code",
      "source": [
        "L1=[\"AI\", \"Python\", \"NLP\", \"CV\", \"R\"]"
      ],
      "metadata": {
        "id": "8kE3WL1tqy5L"
      },
      "execution_count": null,
      "outputs": []
    },
    {
      "cell_type": "code",
      "source": [
        "L1.append(\"ML\")  #this will add the element at the end of the list"
      ],
      "metadata": {
        "id": "rbnUqFexq5GZ"
      },
      "execution_count": null,
      "outputs": []
    },
    {
      "cell_type": "code",
      "source": [
        "print(L1)"
      ],
      "metadata": {
        "colab": {
          "base_uri": "https://localhost:8080/"
        },
        "id": "cqpctyDxq-qc",
        "outputId": "8cafbef3-002f-4889-e6f6-4caf79e95977"
      },
      "execution_count": null,
      "outputs": [
        {
          "output_type": "stream",
          "name": "stdout",
          "text": [
            "['AI', 'Python', 'NLP', 'CV', 'R', 'ML']\n"
          ]
        }
      ]
    },
    {
      "cell_type": "code",
      "source": [
        "L1.insert(0, \"NLP\")  #this will add the element at the given location(index number)"
      ],
      "metadata": {
        "id": "J5IZ3J-irSLJ"
      },
      "execution_count": null,
      "outputs": []
    },
    {
      "cell_type": "code",
      "source": [
        "print(L1)"
      ],
      "metadata": {
        "colab": {
          "base_uri": "https://localhost:8080/"
        },
        "id": "QGp5ZVcgrWjD",
        "outputId": "04ef9eef-7ce0-4961-e8a8-0aa9453d50f7"
      },
      "execution_count": null,
      "outputs": [
        {
          "output_type": "stream",
          "name": "stdout",
          "text": [
            "['NLP', 'AI', 'Python', 'NLP', 'CV', 'R', 'ML']\n"
          ]
        }
      ]
    },
    {
      "cell_type": "code",
      "source": [
        "L1.remove(\"NLP\")   #this will delete the first occurance of the element"
      ],
      "metadata": {
        "id": "ZuhrvEVwremD"
      },
      "execution_count": null,
      "outputs": []
    },
    {
      "cell_type": "code",
      "source": [
        "print(L1)"
      ],
      "metadata": {
        "colab": {
          "base_uri": "https://localhost:8080/"
        },
        "id": "oJPcL_bTrlMJ",
        "outputId": "3f1d31af-bcec-4f77-8aaa-8acd171f170e"
      },
      "execution_count": null,
      "outputs": [
        {
          "output_type": "stream",
          "name": "stdout",
          "text": [
            "['AI', 'Python', 'NLP', 'CV', 'R', 'ML']\n"
          ]
        }
      ]
    },
    {
      "cell_type": "code",
      "source": [
        "L1.pop(4)  #this will delete the element positioned at number 4"
      ],
      "metadata": {
        "colab": {
          "base_uri": "https://localhost:8080/",
          "height": 36
        },
        "id": "84XAss5Jro1C",
        "outputId": "21e08113-23b1-4072-f638-7f5bce1a0dce"
      },
      "execution_count": null,
      "outputs": [
        {
          "output_type": "execute_result",
          "data": {
            "text/plain": [
              "'R'"
            ],
            "application/vnd.google.colaboratory.intrinsic+json": {
              "type": "string"
            }
          },
          "metadata": {},
          "execution_count": 97
        }
      ]
    },
    {
      "cell_type": "code",
      "source": [
        "print(L1)"
      ],
      "metadata": {
        "colab": {
          "base_uri": "https://localhost:8080/"
        },
        "id": "-UJ98NzCrvNS",
        "outputId": "5566e8fe-eb38-4d36-81ab-f123c11a95c2"
      },
      "execution_count": null,
      "outputs": [
        {
          "output_type": "stream",
          "name": "stdout",
          "text": [
            "['AI', 'Python', 'NLP', 'CV', 'ML']\n"
          ]
        }
      ]
    },
    {
      "cell_type": "code",
      "source": [
        "L1.pop(1)"
      ],
      "metadata": {
        "colab": {
          "base_uri": "https://localhost:8080/",
          "height": 36
        },
        "id": "uO07HpUBr6BU",
        "outputId": "b6e902e5-e2b4-4fa2-aed3-0cec09095e4f"
      },
      "execution_count": null,
      "outputs": [
        {
          "output_type": "execute_result",
          "data": {
            "text/plain": [
              "'Python'"
            ],
            "application/vnd.google.colaboratory.intrinsic+json": {
              "type": "string"
            }
          },
          "metadata": {},
          "execution_count": 99
        }
      ]
    },
    {
      "cell_type": "code",
      "source": [
        "print(L1)"
      ],
      "metadata": {
        "colab": {
          "base_uri": "https://localhost:8080/"
        },
        "id": "Nlz0SxwKr-L1",
        "outputId": "2e568054-f3c1-4662-d685-e3eddfce55c1"
      },
      "execution_count": null,
      "outputs": [
        {
          "output_type": "stream",
          "name": "stdout",
          "text": [
            "['AI', 'NLP', 'CV', 'ML']\n"
          ]
        }
      ]
    },
    {
      "cell_type": "code",
      "source": [
        "L1.extend([\"Deep Learning\", \"Tableau\", \"Statistics\"])  #Will add the multiple elements at the end of the list"
      ],
      "metadata": {
        "id": "wwpbm1RUsBOh"
      },
      "execution_count": null,
      "outputs": []
    },
    {
      "cell_type": "code",
      "source": [
        "print(L1)"
      ],
      "metadata": {
        "colab": {
          "base_uri": "https://localhost:8080/"
        },
        "id": "I2qONSBBsPDJ",
        "outputId": "52d45fc3-289d-4631-adad-88ec78a7dc8a"
      },
      "execution_count": null,
      "outputs": [
        {
          "output_type": "stream",
          "name": "stdout",
          "text": [
            "['AI', 'NLP', 'CV', 'ML', 'Deep Learning', 'Tableau', 'Statistics']\n"
          ]
        }
      ]
    },
    {
      "cell_type": "code",
      "source": [
        "L1.insert(1,[\"Julia\", \"C#\", \"Ruby\"])      #Will add the nested list at index 1"
      ],
      "metadata": {
        "id": "Z5eYkJwrseR7"
      },
      "execution_count": null,
      "outputs": []
    },
    {
      "cell_type": "code",
      "source": [
        "print(L1)"
      ],
      "metadata": {
        "colab": {
          "base_uri": "https://localhost:8080/"
        },
        "id": "wrw08g5mslHU",
        "outputId": "8b47b36f-950a-42a3-a208-ef4ef0e9bd42"
      },
      "execution_count": null,
      "outputs": [
        {
          "output_type": "stream",
          "name": "stdout",
          "text": [
            "['AI', ['Julia', 'C#', 'Ruby'], 'NLP', 'CV', 'ML', 'Deep Learning', 'Tableau', 'Statistics']\n"
          ]
        }
      ]
    },
    {
      "cell_type": "code",
      "source": [
        "#Output should be [\"C#\", \"Ruby\"]\n",
        "\n",
        "L1[1][1:]"
      ],
      "metadata": {
        "colab": {
          "base_uri": "https://localhost:8080/"
        },
        "id": "LX7v2HZksnmP",
        "outputId": "4bc73263-d30f-4f5b-be92-e3526218f066"
      },
      "execution_count": null,
      "outputs": [
        {
          "output_type": "execute_result",
          "data": {
            "text/plain": [
              "['C#', 'Ruby']"
            ]
          },
          "metadata": {},
          "execution_count": 106
        }
      ]
    },
    {
      "cell_type": "code",
      "source": [
        "L1.pop(1)"
      ],
      "metadata": {
        "colab": {
          "base_uri": "https://localhost:8080/"
        },
        "id": "pLFftlYotD4j",
        "outputId": "4d767731-e82c-4f62-f32c-9648c3054224"
      },
      "execution_count": null,
      "outputs": [
        {
          "output_type": "execute_result",
          "data": {
            "text/plain": [
              "['Julia', 'C#', 'Ruby']"
            ]
          },
          "metadata": {},
          "execution_count": 107
        }
      ]
    },
    {
      "cell_type": "code",
      "source": [
        "print(L1)"
      ],
      "metadata": {
        "colab": {
          "base_uri": "https://localhost:8080/"
        },
        "id": "e7wgedAHtIvh",
        "outputId": "9cb34b38-2b17-4235-a0f7-2d4275ac2cb2"
      },
      "execution_count": null,
      "outputs": [
        {
          "output_type": "stream",
          "name": "stdout",
          "text": [
            "['AI', 'NLP', 'CV', 'ML', 'Deep Learning', 'Tableau', 'Statistics']\n"
          ]
        }
      ]
    },
    {
      "cell_type": "code",
      "source": [
        "len(L1)"
      ],
      "metadata": {
        "colab": {
          "base_uri": "https://localhost:8080/"
        },
        "id": "YxB9s3z3tNn2",
        "outputId": "58206138-1ce6-43da-d49a-ed328d276e83"
      },
      "execution_count": null,
      "outputs": [
        {
          "output_type": "execute_result",
          "data": {
            "text/plain": [
              "7"
            ]
          },
          "metadata": {},
          "execution_count": 109
        }
      ]
    },
    {
      "cell_type": "code",
      "source": [
        "L2=[2,5,1,5,4,4,89,6,9,5,4,1,2,3,6,8,7,4,11,55,22,24,15,36,8]"
      ],
      "metadata": {
        "id": "nr5HQUPOtYVe"
      },
      "execution_count": null,
      "outputs": []
    },
    {
      "cell_type": "code",
      "source": [
        "max(L2)   # Will fetch the largest element from the list"
      ],
      "metadata": {
        "colab": {
          "base_uri": "https://localhost:8080/"
        },
        "id": "oXTg8XHAttnv",
        "outputId": "a23f812e-fd20-4507-fadd-9a96c7b9293b"
      },
      "execution_count": null,
      "outputs": [
        {
          "output_type": "execute_result",
          "data": {
            "text/plain": [
              "89"
            ]
          },
          "metadata": {},
          "execution_count": 111
        }
      ]
    },
    {
      "cell_type": "code",
      "source": [
        "min(L2)      #will fetch the smallest element from the list"
      ],
      "metadata": {
        "colab": {
          "base_uri": "https://localhost:8080/"
        },
        "id": "DWq-LQydtzbt",
        "outputId": "604ee07e-1445-4f3b-b777-afd9ca7a46c9"
      },
      "execution_count": null,
      "outputs": [
        {
          "output_type": "execute_result",
          "data": {
            "text/plain": [
              "1"
            ]
          },
          "metadata": {},
          "execution_count": 112
        }
      ]
    },
    {
      "cell_type": "code",
      "source": [
        "L2.count(8)  #will count the frequncy of 8 existing in the list"
      ],
      "metadata": {
        "colab": {
          "base_uri": "https://localhost:8080/"
        },
        "id": "0Kgn3Smtt5j2",
        "outputId": "0badbfe6-d61d-4529-a8f6-ad4ce9af522e"
      },
      "execution_count": null,
      "outputs": [
        {
          "output_type": "execute_result",
          "data": {
            "text/plain": [
              "2"
            ]
          },
          "metadata": {},
          "execution_count": 117
        }
      ]
    },
    {
      "cell_type": "code",
      "source": [
        "sum(L2)   #will add the all the elements in the list"
      ],
      "metadata": {
        "colab": {
          "base_uri": "https://localhost:8080/"
        },
        "id": "C3qAtpyQuJbE",
        "outputId": "dd2885b4-08b5-41ce-853c-ea49b383ad75"
      },
      "execution_count": null,
      "outputs": [
        {
          "output_type": "execute_result",
          "data": {
            "text/plain": [
              "336"
            ]
          },
          "metadata": {},
          "execution_count": 119
        }
      ]
    },
    {
      "cell_type": "code",
      "source": [
        "#Homework\n",
        "\n",
        "my_list = ['Varanasi', 'Lucknow', 'Kanpur', ['Uttar Pradesh', 'Madhya Pradesh', ['Delhi', 'Faridabad', 'Noida']]]"
      ],
      "metadata": {
        "id": "qfVXBTBQubXT"
      },
      "execution_count": null,
      "outputs": []
    },
    {
      "cell_type": "code",
      "source": [
        "#Output should be ['Lucknow', 'Uttar Pradesh', 'Madhya Pradesh']\n",
        "\n",
        "print(my_list[1:2]+my_list[3][0:2])"
      ],
      "metadata": {
        "colab": {
          "base_uri": "https://localhost:8080/"
        },
        "id": "GVlLbBa3ov-z",
        "outputId": "ff1451b9-16b5-4589-d4d2-53e5621ce012"
      },
      "execution_count": null,
      "outputs": [
        {
          "output_type": "stream",
          "name": "stdout",
          "text": [
            "['Lucknow', 'Uttar Pradesh', 'Madhya Pradesh']\n"
          ]
        }
      ]
    },
    {
      "cell_type": "code",
      "source": [
        "#Output should be ['Noida', 'Faridabad', 'Delhi']\n",
        "\n",
        "#print(my_list[3][2][2:] + my_list[3][2][1:2] + my_list[3][2][0:1])\n",
        "\n",
        "print(my_list[3][2][::-1])"
      ],
      "metadata": {
        "colab": {
          "base_uri": "https://localhost:8080/"
        },
        "id": "n5VXVvecpYpL",
        "outputId": "4ef98589-1ac7-4b04-afcf-f305adeaf38f"
      },
      "execution_count": null,
      "outputs": [
        {
          "output_type": "stream",
          "name": "stdout",
          "text": [
            "['Noida', 'Faridabad', 'Delhi']\n"
          ]
        }
      ]
    },
    {
      "cell_type": "code",
      "source": [
        "#Output should be ['Noida', 'Varanasi']\n",
        "\n",
        "print(my_list[3][2][2:] + my_list[0:1])"
      ],
      "metadata": {
        "colab": {
          "base_uri": "https://localhost:8080/"
        },
        "id": "M-xKA4AmqJYJ",
        "outputId": "36097e95-ab6a-48c9-e124-11d0a75b7db0"
      },
      "execution_count": null,
      "outputs": [
        {
          "output_type": "stream",
          "name": "stdout",
          "text": [
            "['Noida', 'Varanasi']\n"
          ]
        }
      ]
    }
  ]
}