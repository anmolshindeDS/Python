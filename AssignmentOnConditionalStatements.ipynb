{
  "nbformat": 4,
  "nbformat_minor": 0,
  "metadata": {
    "colab": {
      "provenance": []
    },
    "kernelspec": {
      "name": "python3",
      "display_name": "Python 3"
    },
    "language_info": {
      "name": "python"
    }
  },
  "cells": [
    {
      "cell_type": "markdown",
      "source": [
        "Take three numbers 'x', 'y' and 'z' as input from the user and check which number is greater\n"
      ],
      "metadata": {
        "id": "LDlazPAIEevj"
      }
    },
    {
      "cell_type": "code",
      "execution_count": 1,
      "metadata": {
        "colab": {
          "base_uri": "https://localhost:8080/"
        },
        "id": "At2m24tADmyS",
        "outputId": "dad04575-3b62-4b17-d810-ed4b19ba7663"
      },
      "outputs": [
        {
          "output_type": "stream",
          "name": "stdout",
          "text": [
            "Enter value of X15\n",
            "Enter value of Y65\n",
            "Enter value of Z20\n",
            "Greater number is:  65\n"
          ]
        }
      ],
      "source": [
        "x = int(input(\"Enter value of X\"))\n",
        "y = int(input(\"Enter value of Y\"))\n",
        "z = int(input(\"Enter value of Z\"))\n",
        "\n",
        "if (x>y) and (x>z):\n",
        "  largest = x\n",
        "elif(y>x) and (y>z):\n",
        "  largest = y\n",
        "else:\n",
        "  largest = z\n",
        "\n",
        "print(\"Greater number is: \", largest)"
      ]
    },
    {
      "cell_type": "markdown",
      "source": [
        "Take an alphabet as input from the user and check if the alphabet is a vowel, consonant or an exception\n",
        "\n",
        "\n",
        "Vowel - 'a','e','i','o','u'\n",
        "\n",
        "Exception - 'h', 'y'\n",
        "\n",
        "Consonant - rest other alphabets"
      ],
      "metadata": {
        "id": "SfU5muiGF03B"
      }
    },
    {
      "cell_type": "code",
      "source": [
        "letter = str(input(\"Enter alphabet: \"))\n",
        "\n",
        "if letter in ('a','e','i','o','u'):\n",
        "  print(\"Letter is Vowel\")\n",
        "elif letter in ( 'h', 'y'):\n",
        "  print(\"Letter is Exption\")\n",
        "else:\n",
        "  print(\"Letter is Consonant\")"
      ],
      "metadata": {
        "colab": {
          "base_uri": "https://localhost:8080/"
        },
        "id": "C2L-yfS0F2JX",
        "outputId": "10419f34-2a7c-40c6-d6e5-0fe337ea48ba"
      },
      "execution_count": 3,
      "outputs": [
        {
          "output_type": "stream",
          "name": "stdout",
          "text": [
            "Enter alphabet: a\n",
            "Letter is Vowel\n"
          ]
        }
      ]
    },
    {
      "cell_type": "markdown",
      "source": [
        "Write a program to check whether a number given by a user is divisible by 2 and 3 both"
      ],
      "metadata": {
        "id": "5hPvrgL7GgPX"
      }
    },
    {
      "cell_type": "code",
      "source": [
        "num = int(input(\"Enter the number: \"))\n",
        "\n",
        "if (num%2==0) and (num%3==0):\n",
        "  print(\"Number is divisible by 2 and 3 both\")\n",
        "else:\n",
        "  print(\"Number is not divisible by 2 and 3 both\")"
      ],
      "metadata": {
        "colab": {
          "base_uri": "https://localhost:8080/"
        },
        "id": "ZgR1Tb7sGhE2",
        "outputId": "290cf09c-8c3f-4be7-e0f9-73212730a50f"
      },
      "execution_count": 8,
      "outputs": [
        {
          "output_type": "stream",
          "name": "stdout",
          "text": [
            "Enter the number: 15\n",
            "Number is not divisible by 2 and 3 both\n"
          ]
        }
      ]
    },
    {
      "cell_type": "markdown",
      "source": [
        "Write a program to accept the cost price  of a bike as input and display the road tax to be paid according to the following crieteria :-\n",
        "\n",
        "Cost price - 100000 Tax - 15%\n",
        "\n",
        "Cost price - between 50000 to 100000 Tax - 10%\n",
        "\n",
        "Cost price - less than 50000 Tax - 5%"
      ],
      "metadata": {
        "id": "OBdtD1ZWHE30"
      }
    },
    {
      "cell_type": "code",
      "source": [
        "cost = int(input(\"Enter cost of the bike\"))\n",
        "\n",
        "if cost>100000:\n",
        "  roadtax = 0.15*cost\n",
        "elif 50000<cost>100000:\n",
        "  roadtax = 0.10*cost\n",
        "else:\n",
        "  roadtax = 0.05*cost\n",
        "\n",
        "print(\"Roadtax of the Bike: \", roadtax)"
      ],
      "metadata": {
        "colab": {
          "base_uri": "https://localhost:8080/"
        },
        "id": "c0ovU5FFHIRY",
        "outputId": "3a1bf525-9be0-4aa0-d882-e8d137b26b48"
      },
      "execution_count": 11,
      "outputs": [
        {
          "output_type": "stream",
          "name": "stdout",
          "text": [
            "Enter cost of the bike10000\n",
            "Roadtax of the Bike:  500.0\n"
          ]
        }
      ]
    },
    {
      "cell_type": "markdown",
      "source": [
        "Write a program to calculate the electricity bill by accepting the number of units consumed by the user as input. Use the following price chart for reference :-\n",
        "\n",
        "Price of first 100 units - no charge\n",
        "\n",
        "Price of next 100 units - Rs 5/- per unit\n",
        "\n",
        "After 200 units - Rs 10/- per unit"
      ],
      "metadata": {
        "id": "SOC49ewWIZ4j"
      }
    },
    {
      "cell_type": "code",
      "source": [
        "units = int(input(\"Enter number of units used by User\"))\n",
        "\n",
        "if units>200:\n",
        "  bill = units*10\n",
        "elif units>100:\n",
        "  bill = units*5\n",
        "else:\n",
        "  bill = 0\n",
        "\n",
        "print(\"Bill Amount is: \", bill)"
      ],
      "metadata": {
        "colab": {
          "base_uri": "https://localhost:8080/"
        },
        "id": "BhVGw0AKIar9",
        "outputId": "174ae6f2-209c-405e-90aa-0a932bf83451"
      },
      "execution_count": 14,
      "outputs": [
        {
          "output_type": "stream",
          "name": "stdout",
          "text": [
            "Enter number of units used by User5\n",
            "Bill Amount is:  0\n"
          ]
        }
      ]
    }
  ]
}