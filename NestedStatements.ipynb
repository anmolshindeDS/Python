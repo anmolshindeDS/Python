{
  "nbformat": 4,
  "nbformat_minor": 0,
  "metadata": {
    "colab": {
      "provenance": []
    },
    "kernelspec": {
      "name": "python3",
      "display_name": "Python 3"
    },
    "language_info": {
      "name": "python"
    }
  },
  "cells": [
    {
      "cell_type": "code",
      "execution_count": null,
      "metadata": {
        "colab": {
          "base_uri": "https://localhost:8080/"
        },
        "id": "WEg5jpFCiS_P",
        "outputId": "f887a893-7e6e-4807-d848-e33a9663beb8"
      },
      "outputs": [
        {
          "output_type": "stream",
          "name": "stdout",
          "text": [
            "Enter value of X: 25\n",
            "X is greater than 10 and 20\n"
          ]
        }
      ],
      "source": [
        "x=int(input(\"Enter value of X: \"))\n",
        "\n",
        "if x>10:\n",
        "  if x>20:\n",
        "    print(\"X is greater than 10 and 20\")\n",
        "  else:\n",
        "    print(\"X is greater than 10 but less than 20\")\n",
        "else:\n",
        "  print(\"X is less than 10\")"
      ]
    },
    {
      "cell_type": "markdown",
      "source": [
        "Take a number as input from user and check if the number is positive,\n",
        "negative or zero(user nested statements only)"
      ],
      "metadata": {
        "id": "bWcHeH_HnGhz"
      }
    },
    {
      "cell_type": "code",
      "source": [
        "x=int(input(\"Enter Value of X: \"))\n",
        "\n",
        "if x>=0:\n",
        "  if x>0:\n",
        "    print(\"Number is Positive\")\n",
        "  else:\n",
        "    print(\"Number is ZERO\")\n",
        "else:\n",
        "  print(\"Number is negative\")"
      ],
      "metadata": {
        "colab": {
          "base_uri": "https://localhost:8080/"
        },
        "id": "t7dSx6GQnVtA",
        "outputId": "722c0d38-0d8b-4749-aa72-13359edf6bd5"
      },
      "execution_count": null,
      "outputs": [
        {
          "output_type": "stream",
          "name": "stdout",
          "text": [
            "Enter Value of X: -15\n",
            "Number is negative\n"
          ]
        }
      ]
    }
  ]
}