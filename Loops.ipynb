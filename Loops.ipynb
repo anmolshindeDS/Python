{
  "nbformat": 4,
  "nbformat_minor": 0,
  "metadata": {
    "colab": {
      "provenance": []
    },
    "kernelspec": {
      "name": "python3",
      "display_name": "Python 3"
    },
    "language_info": {
      "name": "python"
    }
  },
  "cells": [
    {
      "cell_type": "markdown",
      "source": [
        "While Loop"
      ],
      "metadata": {
        "id": "9NPd5W4roEpB"
      }
    },
    {
      "cell_type": "markdown",
      "source": [
        "print 1 to 10 using while loop"
      ],
      "metadata": {
        "id": "fF58fucIsm1p"
      }
    },
    {
      "cell_type": "code",
      "execution_count": null,
      "metadata": {
        "colab": {
          "base_uri": "https://localhost:8080/"
        },
        "id": "A6XcfJDeoINq",
        "outputId": "333782cc-63d9-446e-e17a-7c1ad05dfedd"
      },
      "outputs": [
        {
          "output_type": "stream",
          "name": "stdout",
          "text": [
            "1\n",
            "2\n",
            "3\n",
            "4\n",
            "5\n",
            "6\n",
            "7\n",
            "8\n",
            "9\n",
            "10\n"
          ]
        }
      ],
      "source": [
        "#a is temp variable\n",
        "\n",
        "a=1\n",
        "while a<=10:\n",
        "  print(a)\n",
        "  a=a+1"
      ]
    },
    {
      "cell_type": "markdown",
      "source": [
        "write a program to display odd numbers between 1 to 10"
      ],
      "metadata": {
        "id": "_Lxjc9e9omaz"
      }
    },
    {
      "cell_type": "code",
      "source": [
        "a=1\n",
        "\n",
        "while a<=10:\n",
        "  print(a)\n",
        "  a=a+2"
      ],
      "metadata": {
        "colab": {
          "base_uri": "https://localhost:8080/"
        },
        "id": "G0Hywa7boryz",
        "outputId": "c23fc2aa-ad07-4155-bbee-caeb1e6ec49d"
      },
      "execution_count": null,
      "outputs": [
        {
          "output_type": "stream",
          "name": "stdout",
          "text": [
            "1\n",
            "3\n",
            "5\n",
            "7\n",
            "9\n"
          ]
        }
      ]
    },
    {
      "cell_type": "markdown",
      "source": [
        "For Loop"
      ],
      "metadata": {
        "id": "Tq6aiMe0sSi3"
      }
    },
    {
      "cell_type": "markdown",
      "source": [
        "Print 1 to 10 using For Loop"
      ],
      "metadata": {
        "id": "uJgtHuhTssCt"
      }
    },
    {
      "cell_type": "code",
      "source": [
        "for i in range(1,11,1):\n",
        "  print(i)"
      ],
      "metadata": {
        "colab": {
          "base_uri": "https://localhost:8080/"
        },
        "id": "IcmtkRiNsTnt",
        "outputId": "c502d078-a2a2-4b54-a598-f88e3f03f860"
      },
      "execution_count": null,
      "outputs": [
        {
          "output_type": "stream",
          "name": "stdout",
          "text": [
            "1\n",
            "2\n",
            "3\n",
            "4\n",
            "5\n",
            "6\n",
            "7\n",
            "8\n",
            "9\n",
            "10\n"
          ]
        }
      ]
    },
    {
      "cell_type": "markdown",
      "source": [
        "Output based questions"
      ],
      "metadata": {
        "id": "1PXaxjSOsxOm"
      }
    },
    {
      "cell_type": "code",
      "source": [
        "x=5\n",
        "\n",
        "while x<15:\n",
        "  print(x**2)\n",
        "  x=x+3\n"
      ],
      "metadata": {
        "colab": {
          "base_uri": "https://localhost:8080/"
        },
        "id": "vfJ51cmnuaWo",
        "outputId": "363a2a64-d1ec-4285-b756-50be544365e4"
      },
      "execution_count": null,
      "outputs": [
        {
          "output_type": "stream",
          "name": "stdout",
          "text": [
            "25\n",
            "64\n",
            "121\n",
            "196\n"
          ]
        }
      ]
    },
    {
      "cell_type": "markdown",
      "source": [
        "Take a number as input from user and display the multiplication table till 10 for that given number using While loop"
      ],
      "metadata": {
        "id": "SYnb2llJuvkE"
      }
    },
    {
      "cell_type": "code",
      "source": [
        "num = int(input(\"Enter the number: \"))\n",
        "i=1\n",
        "\n",
        "while i<=10:\n",
        "  print(num*i)\n",
        "  i=i+1"
      ],
      "metadata": {
        "colab": {
          "base_uri": "https://localhost:8080/"
        },
        "id": "B5fyglEsvPhz",
        "outputId": "686b0513-e109-44e6-8848-85a47588af2f"
      },
      "execution_count": null,
      "outputs": [
        {
          "output_type": "stream",
          "name": "stdout",
          "text": [
            "Enter the number: 4\n",
            "4\n",
            "8\n",
            "12\n",
            "16\n",
            "20\n",
            "24\n",
            "28\n",
            "32\n",
            "36\n",
            "40\n"
          ]
        }
      ]
    },
    {
      "cell_type": "markdown",
      "source": [
        "Take a number as input from user and display the multiplication table till 10 for that given number using for loop"
      ],
      "metadata": {
        "id": "VX4aCsdrwUHB"
      }
    },
    {
      "cell_type": "code",
      "source": [
        "num = int(input(\"Enter the number: \"))\n",
        "\n",
        "for i in range(1,11):\n",
        "  print(num*i)"
      ],
      "metadata": {
        "colab": {
          "base_uri": "https://localhost:8080/"
        },
        "id": "tGC2OHZWwWd3",
        "outputId": "2002206a-7fa8-4ceb-c9f4-fa36ce9a248b"
      },
      "execution_count": null,
      "outputs": [
        {
          "output_type": "stream",
          "name": "stdout",
          "text": [
            "Enter the number: 3\n",
            "3\n",
            "6\n",
            "9\n",
            "12\n",
            "15\n",
            "18\n",
            "21\n",
            "24\n",
            "27\n",
            "30\n"
          ]
        }
      ]
    },
    {
      "cell_type": "markdown",
      "source": [
        "Take a list of numbers and display all the even numbers from the given *list*"
      ],
      "metadata": {
        "id": "rgtcY_LSXTJy"
      }
    },
    {
      "cell_type": "code",
      "source": [
        "list1 = [1,5,6,8,54,22,65]\n",
        "\n",
        "for i in list1:\n",
        "  if i%2==0:\n",
        "    print(i)"
      ],
      "metadata": {
        "colab": {
          "base_uri": "https://localhost:8080/"
        },
        "id": "VtxLrtclXT7Z",
        "outputId": "b0c912fb-03b9-4f8f-e0d4-e20a3dcf90b2"
      },
      "execution_count": 4,
      "outputs": [
        {
          "output_type": "stream",
          "name": "stdout",
          "text": [
            "6\n",
            "8\n",
            "54\n",
            "22\n"
          ]
        }
      ]
    },
    {
      "cell_type": "markdown",
      "source": [
        "Take a list of numbers and display the square of all the numbers given in the list"
      ],
      "metadata": {
        "id": "7A8KMEBXXZQ-"
      }
    },
    {
      "cell_type": "code",
      "source": [
        "list2=[1,5,6,9,7,11,15,21]\n",
        "\n",
        "for i in list2:\n",
        "  print(i**2)"
      ],
      "metadata": {
        "colab": {
          "base_uri": "https://localhost:8080/"
        },
        "id": "hjJC1wkCXZ1Z",
        "outputId": "e3ce1ac6-0215-4400-ecc6-56fed3af0954"
      },
      "execution_count": 3,
      "outputs": [
        {
          "output_type": "stream",
          "name": "stdout",
          "text": [
            "1\n",
            "25\n",
            "36\n",
            "81\n",
            "49\n",
            "121\n",
            "225\n",
            "441\n"
          ]
        }
      ]
    },
    {
      "cell_type": "markdown",
      "source": [
        "Take a list of numbers and display the count of even numbers and count of odd numbers in the given list"
      ],
      "metadata": {
        "id": "2-MCsyunXeiH"
      }
    },
    {
      "cell_type": "code",
      "source": [
        "list3 = [1,5,6,8,54,22,65]\n",
        "countEven=0\n",
        "countOdd=0\n",
        "\n",
        "for i in list3:\n",
        "  if i%2==0:\n",
        "    countEven = countEven + 1\n",
        "  else:\n",
        "    countOdd = countOdd + 1\n",
        "\n",
        "print(\"Count of Even numbers in list: \", countEven)\n",
        "print(\"Count of Odd numbers in list: \", countOdd)"
      ],
      "metadata": {
        "colab": {
          "base_uri": "https://localhost:8080/"
        },
        "id": "JQAFqM4RXfgk",
        "outputId": "3fc5a6f5-36bb-43de-e579-325f25d1e7f7"
      },
      "execution_count": 2,
      "outputs": [
        {
          "output_type": "stream",
          "name": "stdout",
          "text": [
            "Count of Even numbers in list:  4\n",
            "Count of Odd numbers in list:  3\n"
          ]
        }
      ]
    },
    {
      "cell_type": "markdown",
      "source": [
        "STATEMENTS\n",
        "\n",
        "1. PASS\n",
        "\n",
        "2. BREAK\n",
        "\n",
        "3. CONTINUE"
      ],
      "metadata": {
        "id": "PZBqQd21XokQ"
      }
    },
    {
      "cell_type": "code",
      "source": [
        "#PASS - makes a particular segment of the code inactive\n",
        "x=int(input(\"enter a number\"))\n",
        "y=int(input(\"enter a number\"))\n",
        "\n",
        "if x>y:\n",
        "  print(\"x is greater\")\n",
        "\n",
        "else:\n",
        "  pass"
      ],
      "metadata": {
        "colab": {
          "base_uri": "https://localhost:8080/"
        },
        "id": "5KNV-Rh3Xpd2",
        "outputId": "8f44f288-6471-420b-85ba-347a72becaeb"
      },
      "execution_count": 5,
      "outputs": [
        {
          "name": "stdout",
          "output_type": "stream",
          "text": [
            "enter a number5\n",
            "enter a number45\n"
          ]
        }
      ]
    },
    {
      "cell_type": "code",
      "source": [
        "x=int(input(\"enter a number\"))\n",
        "y=int(input(\"enter a number\"))\n",
        "\n",
        "if x>y:\n",
        "  pass\n",
        "\n",
        "else:\n",
        "  print(\"y is greater\")"
      ],
      "metadata": {
        "id": "D5aeoYqHXuLU"
      },
      "execution_count": null,
      "outputs": []
    },
    {
      "cell_type": "code",
      "source": [
        "l1=[2,3,4,5,6,7,9,11,12,14,15]\n",
        "\n",
        "for i in l1:\n",
        "  if i%2==0:\n",
        "    pass\n",
        "\n",
        "  else:\n",
        "    print(i,end=\" \")"
      ],
      "metadata": {
        "id": "0zjfO4SQXwZZ"
      },
      "execution_count": null,
      "outputs": []
    },
    {
      "cell_type": "code",
      "source": [
        "#BREAK - forcebly comme out of the loop\n",
        "fruits=['apple','banana','mango','kivi','grapes']\n",
        "\n",
        "for i in fruits:\n",
        "  if i=='mango':\n",
        "    break\n",
        "  print(i,end=\" \")"
      ],
      "metadata": {
        "id": "VrKYsWn4XyIb"
      },
      "execution_count": null,
      "outputs": []
    },
    {
      "cell_type": "code",
      "source": [
        "name='Washington'\n",
        "\n",
        "for i in name:\n",
        "  if i=='t':\n",
        "    break\n",
        "  print(i,end=\" \")"
      ],
      "metadata": {
        "id": "5IYrP21xXywq"
      },
      "execution_count": null,
      "outputs": []
    },
    {
      "cell_type": "code",
      "source": [
        "#CONTINUE - skip the mentioned element in the satisfied condition\n",
        "fruits=['apple','banana','mango','kivi','grapes']\n",
        "\n",
        "for i in fruits:\n",
        "  if i=='mango':\n",
        "    continue\n",
        "  print(i,end=\" \")"
      ],
      "metadata": {
        "id": "WXCOtHQ5X0K_"
      },
      "execution_count": null,
      "outputs": []
    },
    {
      "cell_type": "code",
      "source": [
        "name='Washington'\n",
        "\n",
        "for i in name:\n",
        "  if i=='t':\n",
        "    continue\n",
        "  print(i,end=\" \")"
      ],
      "metadata": {
        "id": "xxMYzXi9X1ay"
      },
      "execution_count": null,
      "outputs": []
    },
    {
      "cell_type": "markdown",
      "source": [
        "Display all the numbers between 1-10 except 3 and 6"
      ],
      "metadata": {
        "id": "NEvKi8F5X6J1"
      }
    },
    {
      "cell_type": "code",
      "source": [
        "for i in range(1,11):\n",
        "\n",
        "  if i==3 or i==6:\n",
        "    continue\n",
        "\n",
        "  print(i)"
      ],
      "metadata": {
        "id": "Ur4_JWbQX70k"
      },
      "execution_count": null,
      "outputs": []
    }
  ]
}