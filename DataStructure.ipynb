{
  "nbformat": 4,
  "nbformat_minor": 0,
  "metadata": {
    "colab": {
      "provenance": []
    },
    "kernelspec": {
      "name": "python3",
      "display_name": "Python 3"
    },
    "language_info": {
      "name": "python"
    }
  },
  "cells": [
    {
      "cell_type": "markdown",
      "source": [
        "Data Structure.\n",
        "\n",
        "1. Dictionaries\n",
        "2. Tuples\n",
        "3. Set"
      ],
      "metadata": {
        "id": "-sD0jotvyUNB"
      }
    },
    {
      "cell_type": "markdown",
      "source": [
        "Dictionaries"
      ],
      "metadata": {
        "id": "5gMm5mKRF8r8"
      }
    },
    {
      "cell_type": "code",
      "execution_count": null,
      "metadata": {
        "id": "m5N0rde1yNPa"
      },
      "outputs": [],
      "source": [
        "memo = {'chips':20, 'Notebook' : 50, 'Pen' : 10, 'Cold Drinks' : 120}"
      ]
    },
    {
      "cell_type": "code",
      "source": [
        "# In order to fetch the values, we use name of keys and not index numbers\n",
        "\n",
        "memo['Cold Drinks']"
      ],
      "metadata": {
        "colab": {
          "base_uri": "https://localhost:8080/"
        },
        "id": "G7TGDyAjye7R",
        "outputId": "a85d04b7-3507-46a3-cd71-3283f7cce760"
      },
      "execution_count": null,
      "outputs": [
        {
          "output_type": "execute_result",
          "data": {
            "text/plain": [
              "120"
            ]
          },
          "metadata": {},
          "execution_count": 2
        }
      ]
    },
    {
      "cell_type": "code",
      "source": [
        "memo['Pen']"
      ],
      "metadata": {
        "colab": {
          "base_uri": "https://localhost:8080/"
        },
        "id": "ZeLHF9UuyhT_",
        "outputId": "d15632c0-d76d-4f37-9850-a26fac458bed"
      },
      "execution_count": null,
      "outputs": [
        {
          "output_type": "execute_result",
          "data": {
            "text/plain": [
              "10"
            ]
          },
          "metadata": {},
          "execution_count": 4
        }
      ]
    },
    {
      "cell_type": "code",
      "source": [
        "#In dict, slicing is not supported\n"
      ],
      "metadata": {
        "id": "iWa0DLmCy0yM"
      },
      "execution_count": null,
      "outputs": []
    },
    {
      "cell_type": "code",
      "source": [
        "#adding new key value pair in dict\n",
        "\n",
        "memo['Ice Cream'] = 80"
      ],
      "metadata": {
        "id": "BAXIK2B9y9py"
      },
      "execution_count": null,
      "outputs": []
    },
    {
      "cell_type": "code",
      "source": [
        "print(memo)"
      ],
      "metadata": {
        "colab": {
          "base_uri": "https://localhost:8080/"
        },
        "id": "VEn02VGUzhRG",
        "outputId": "097eca56-b616-40e2-9596-b7a507994b53"
      },
      "execution_count": null,
      "outputs": [
        {
          "output_type": "stream",
          "name": "stdout",
          "text": [
            "{'chips': 20, 'Notebook': 50, 'Pen': 10, 'Cold Drinks': 120, 'Ice Cream': 80}\n"
          ]
        }
      ]
    },
    {
      "cell_type": "code",
      "source": [
        "memo['Bread'] = 50"
      ],
      "metadata": {
        "id": "dwn4kgLRzjyQ"
      },
      "execution_count": null,
      "outputs": []
    },
    {
      "cell_type": "code",
      "source": [
        "print(memo)"
      ],
      "metadata": {
        "colab": {
          "base_uri": "https://localhost:8080/"
        },
        "id": "3hN4NBGRzmc9",
        "outputId": "3ed407c9-8b30-49a7-9fb1-2f390d9de8e5"
      },
      "execution_count": null,
      "outputs": [
        {
          "output_type": "stream",
          "name": "stdout",
          "text": [
            "{'chips': 20, 'Notebook': 50, 'Pen': 10, 'Cold Drinks': 120, 'Ice Cream': 80, 'Bread': 50}\n"
          ]
        }
      ]
    },
    {
      "cell_type": "code",
      "source": [
        "#modifying exisitng values in a dict\n",
        "\n",
        "memo['Cold Drinks'] = 40"
      ],
      "metadata": {
        "id": "lIN8k41ezqZA"
      },
      "execution_count": null,
      "outputs": []
    },
    {
      "cell_type": "code",
      "source": [
        "print(memo)"
      ],
      "metadata": {
        "colab": {
          "base_uri": "https://localhost:8080/"
        },
        "id": "f-sN5Sqhz1h5",
        "outputId": "58a65f95-f428-4c10-9037-0d81fed1eb3c"
      },
      "execution_count": null,
      "outputs": [
        {
          "output_type": "stream",
          "name": "stdout",
          "text": [
            "{'chips': 20, 'Notebook': 50, 'Pen': 10, 'Cold Drinks': 40, 'Ice Cream': 80, 'Bread': 50}\n"
          ]
        }
      ]
    },
    {
      "cell_type": "code",
      "source": [
        "#delete key value pair from dic\n",
        "\n",
        "del memo['Notebook']"
      ],
      "metadata": {
        "id": "RTqQV-ip0Hct"
      },
      "execution_count": null,
      "outputs": []
    },
    {
      "cell_type": "code",
      "source": [
        "print(memo)"
      ],
      "metadata": {
        "colab": {
          "base_uri": "https://localhost:8080/"
        },
        "id": "a_ntPHs30QTb",
        "outputId": "f97ece87-db2f-49df-a539-a2cc70413802"
      },
      "execution_count": null,
      "outputs": [
        {
          "output_type": "stream",
          "name": "stdout",
          "text": [
            "{'chips': 20, 'Pen': 10, 'Cold Drinks': 40, 'Ice Cream': 80, 'Bread': 50}\n"
          ]
        }
      ]
    },
    {
      "cell_type": "markdown",
      "source": [
        "Roll No     Name\n",
        "01          Aditya\n",
        "02          Chirag\n",
        "03          Kunal\n",
        "04          Zoya"
      ],
      "metadata": {
        "id": "YxyMzBn_L3x_"
      }
    },
    {
      "cell_type": "code",
      "source": [
        "Student = {1:'Aditya', 2:'Chirag', 3: 'Kunal', 4: 'Zoya'}"
      ],
      "metadata": {
        "id": "-COmnO8iL2DM"
      },
      "execution_count": null,
      "outputs": []
    },
    {
      "cell_type": "code",
      "source": [
        "print(Student)"
      ],
      "metadata": {
        "colab": {
          "base_uri": "https://localhost:8080/"
        },
        "id": "0JExpOQaMWCw",
        "outputId": "08943b61-6616-48b3-fde0-ec0b937771bc"
      },
      "execution_count": null,
      "outputs": [
        {
          "output_type": "stream",
          "name": "stdout",
          "text": [
            "{1: 'Aditya', 2: 'Chirag', 3: 'Kunal', 4: 'Zoya'}\n"
          ]
        }
      ]
    },
    {
      "cell_type": "code",
      "source": [
        "#replace zoya with Zareen\n",
        "\n",
        "Student[4] = \"Zareen\""
      ],
      "metadata": {
        "id": "DtVymtTrMkSS"
      },
      "execution_count": null,
      "outputs": []
    },
    {
      "cell_type": "code",
      "source": [
        "print(Student)"
      ],
      "metadata": {
        "colab": {
          "base_uri": "https://localhost:8080/"
        },
        "id": "_ltnYCdqMryr",
        "outputId": "81ff87c6-1e7d-4325-f85d-801a96724481"
      },
      "execution_count": null,
      "outputs": [
        {
          "output_type": "stream",
          "name": "stdout",
          "text": [
            "{1: 'Aditya', 2: 'Chirag', 3: 'Kunal', 4: 'Zareen'}\n"
          ]
        }
      ]
    },
    {
      "cell_type": "code",
      "source": [
        "#Add new student 'Meera'\n",
        "\n",
        "Student[5]='Meera'"
      ],
      "metadata": {
        "id": "ltaR22dHMuEi"
      },
      "execution_count": null,
      "outputs": []
    },
    {
      "cell_type": "code",
      "source": [
        "print(Student)"
      ],
      "metadata": {
        "colab": {
          "base_uri": "https://localhost:8080/"
        },
        "id": "YMQ5gfdjM2tF",
        "outputId": "445eb034-84c8-47e9-c158-958ffa1a0442"
      },
      "execution_count": null,
      "outputs": [
        {
          "output_type": "stream",
          "name": "stdout",
          "text": [
            "{1: 'Aditya', 2: 'Chirag', 3: 'Kunal', 4: 'Zareen', 5: 'Meera'}\n"
          ]
        }
      ]
    },
    {
      "cell_type": "markdown",
      "source": [
        "**Tuple**\n",
        "\n",
        "- Immutable\n",
        "- Can not add new values\n",
        "- Can not delete values form Tuple\n",
        "- Slicing and indexing can be done\n",
        "- Denoted by ()"
      ],
      "metadata": {
        "id": "H0az-rSDGDBK"
      }
    },
    {
      "cell_type": "code",
      "source": [
        "t=('India', 'USA', 80, 200, -451, -45.98, -9.8)"
      ],
      "metadata": {
        "id": "3s3aar_4GFWk"
      },
      "execution_count": null,
      "outputs": []
    },
    {
      "cell_type": "code",
      "source": [
        "type(t)"
      ],
      "metadata": {
        "colab": {
          "base_uri": "https://localhost:8080/"
        },
        "id": "zPbvfcEfKlvL",
        "outputId": "f81fbb8c-b361-4585-d301-20e55b19ae8d"
      },
      "execution_count": null,
      "outputs": [
        {
          "output_type": "execute_result",
          "data": {
            "text/plain": [
              "tuple"
            ]
          },
          "metadata": {},
          "execution_count": 16
        }
      ]
    },
    {
      "cell_type": "code",
      "source": [
        "t[0]"
      ],
      "metadata": {
        "colab": {
          "base_uri": "https://localhost:8080/",
          "height": 36
        },
        "id": "kUCOxfm4Kn4W",
        "outputId": "570e8226-90f8-49f2-c6a5-93debbd2a50b"
      },
      "execution_count": null,
      "outputs": [
        {
          "output_type": "execute_result",
          "data": {
            "text/plain": [
              "'India'"
            ],
            "application/vnd.google.colaboratory.intrinsic+json": {
              "type": "string"
            }
          },
          "metadata": {},
          "execution_count": 17
        }
      ]
    },
    {
      "cell_type": "code",
      "source": [
        "t[4]"
      ],
      "metadata": {
        "colab": {
          "base_uri": "https://localhost:8080/"
        },
        "id": "MxvHoox9KtvF",
        "outputId": "c312a1ac-5a14-4251-de74-0752333edbc5"
      },
      "execution_count": null,
      "outputs": [
        {
          "output_type": "execute_result",
          "data": {
            "text/plain": [
              "-451"
            ]
          },
          "metadata": {},
          "execution_count": 18
        }
      ]
    },
    {
      "cell_type": "code",
      "source": [
        "t[0:2]"
      ],
      "metadata": {
        "colab": {
          "base_uri": "https://localhost:8080/"
        },
        "id": "VHJJ3H9iKwP3",
        "outputId": "e93c5039-cc3d-42ff-be50-a21b92e57bca"
      },
      "execution_count": null,
      "outputs": [
        {
          "output_type": "execute_result",
          "data": {
            "text/plain": [
              "('India', 'USA')"
            ]
          },
          "metadata": {},
          "execution_count": 19
        }
      ]
    },
    {
      "cell_type": "markdown",
      "source": [
        "Sets\n",
        "- Internal order shuffles randomly\n",
        "- Indexing and Slicing not supported\n",
        "- Limited/No use in industry"
      ],
      "metadata": {
        "id": "LY4UfHWaO44r"
      }
    },
    {
      "cell_type": "code",
      "source": [
        "s={'India', 'USA', 80, 200, -451, -45.98, -9.8}"
      ],
      "metadata": {
        "id": "8_8uuZTtO6Ml"
      },
      "execution_count": null,
      "outputs": []
    },
    {
      "cell_type": "code",
      "source": [
        "print(s)"
      ],
      "metadata": {
        "colab": {
          "base_uri": "https://localhost:8080/"
        },
        "id": "cF2LhLxgO9bC",
        "outputId": "71a37cf0-386a-4c7a-f2f8-b3b44a45ea7c"
      },
      "execution_count": null,
      "outputs": [
        {
          "output_type": "stream",
          "name": "stdout",
          "text": [
            "{80, 'USA', -45.98, -9.8, 200, 'India', -451}\n"
          ]
        }
      ]
    },
    {
      "cell_type": "code",
      "source": [],
      "metadata": {
        "id": "lCxv256XPSHK"
      },
      "execution_count": null,
      "outputs": []
    }
  ]
}