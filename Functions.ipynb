{
  "nbformat": 4,
  "nbformat_minor": 0,
  "metadata": {
    "colab": {
      "provenance": []
    },
    "kernelspec": {
      "name": "python3",
      "display_name": "Python 3"
    },
    "language_info": {
      "name": "python"
    }
  },
  "cells": [
    {
      "cell_type": "markdown",
      "source": [
        "Create a function which adds two numbers"
      ],
      "metadata": {
        "id": "qb-gsfDOJwqa"
      }
    },
    {
      "cell_type": "code",
      "source": [
        "def add(a,b):\n",
        "  c=a+b\n",
        "  print(c)\n",
        "\n",
        "add(11,45)\n",
        "add(5,65)"
      ],
      "metadata": {
        "colab": {
          "base_uri": "https://localhost:8080/"
        },
        "id": "Oz2VPNh3dPSw",
        "outputId": "0e41dd6d-ec31-42fc-8f3c-e451387866d7"
      },
      "execution_count": 9,
      "outputs": [
        {
          "output_type": "stream",
          "name": "stdout",
          "text": [
            "56\n",
            "70\n"
          ]
        }
      ]
    },
    {
      "cell_type": "code",
      "source": [
        "add(-7,8)"
      ],
      "metadata": {
        "colab": {
          "base_uri": "https://localhost:8080/"
        },
        "id": "o4CAA4lhda-1",
        "outputId": "88e91bd9-cef1-4ee0-f5b1-13ffd3146e08"
      },
      "execution_count": 10,
      "outputs": [
        {
          "output_type": "stream",
          "name": "stdout",
          "text": [
            "1\n"
          ]
        }
      ]
    },
    {
      "cell_type": "markdown",
      "source": [
        "Create a function which adds, subtracts, multiplies and divide 2 numbers"
      ],
      "metadata": {
        "id": "eBFDxcAPeEax"
      }
    },
    {
      "cell_type": "code",
      "source": [
        "def compute(a,b):\n",
        "  c=a+b\n",
        "  d=a/b\n",
        "  e=a*b\n",
        "  f=a-b\n",
        "  print(\"Addition is: \", c)\n",
        "  print(\"Addition is: \", d)\n",
        "  print(\"Addition is: \", e)\n",
        "  print(\"Subtraction is: \", f)\n",
        "\n",
        "compute(4,9)"
      ],
      "metadata": {
        "colab": {
          "base_uri": "https://localhost:8080/"
        },
        "id": "ff6OF1CuddcU",
        "outputId": "30323a17-e722-4675-8151-6d264562fe33"
      },
      "execution_count": 16,
      "outputs": [
        {
          "output_type": "stream",
          "name": "stdout",
          "text": [
            "Addition is:  13\n",
            "Addition is:  0.4444444444444444\n",
            "Addition is:  36\n",
            "Subtraction is:  -5\n"
          ]
        }
      ]
    },
    {
      "cell_type": "markdown",
      "source": [
        "Create a function which takes name and age as input from user and display the age of user"
      ],
      "metadata": {
        "id": "b4gYoArCe3E2"
      }
    },
    {
      "cell_type": "code",
      "source": [
        "def age(name, age):\n",
        "  print(\"Age of user: \", age)\n",
        "\n",
        "age(\"Anmol\", 32)"
      ],
      "metadata": {
        "colab": {
          "base_uri": "https://localhost:8080/"
        },
        "id": "xaCPpCRVfAnf",
        "outputId": "6d1c70c4-2df4-4cfd-bdb5-aba9f5b1f44c"
      },
      "execution_count": 26,
      "outputs": [
        {
          "output_type": "stream",
          "name": "stdout",
          "text": [
            "Age of user:  32\n"
          ]
        }
      ]
    },
    {
      "cell_type": "markdown",
      "source": [
        "Create a function which takes name and salary as input form user and diplay the salary of the user"
      ],
      "metadata": {
        "id": "f_TYmrG0fjk8"
      }
    },
    {
      "cell_type": "code",
      "source": [
        "def salary(name, salary):\n",
        "  print(\"Salary of user: \", salary)\n",
        "\n",
        "salary(\"Anmol\", 12000)"
      ],
      "metadata": {
        "colab": {
          "base_uri": "https://localhost:8080/"
        },
        "id": "Pdkirxjnfqan",
        "outputId": "ac71e34f-82b9-4531-c569-a3722c7667a1"
      },
      "execution_count": 27,
      "outputs": [
        {
          "output_type": "stream",
          "name": "stdout",
          "text": [
            "Salary of user:  12000\n"
          ]
        }
      ]
    },
    {
      "cell_type": "markdown",
      "source": [
        "Create a function which compute the area and circumference of circle\n",
        "\n",
        "Formula\n",
        "circumference  = 2*pi*r\n",
        "Area = pi*r^2"
      ],
      "metadata": {
        "id": "IRA8i3k_f8Sk"
      }
    },
    {
      "cell_type": "code",
      "source": [
        "def circle(r):\n",
        "  circumference  = 2*3.14*r\n",
        "  area  = 3.14*(r**2)\n",
        "\n",
        "  print(\"Circumference of Circle: \", circumference)\n",
        "  print(\"Area of Circle: \", area)\n",
        "\n",
        "circle(4)\n",
        "\n"
      ],
      "metadata": {
        "colab": {
          "base_uri": "https://localhost:8080/"
        },
        "id": "O769Nh54gKSi",
        "outputId": "91953092-795d-4208-e125-61b338e1c2a0"
      },
      "execution_count": 23,
      "outputs": [
        {
          "output_type": "stream",
          "name": "stdout",
          "text": [
            "Circumference of Circle:  25.12\n",
            "Area of Circle:  50.24\n"
          ]
        }
      ]
    },
    {
      "cell_type": "markdown",
      "source": [
        "Create a function which computes area and perimeter of a rectangle\n",
        "\n",
        "Formula:\n",
        "Area = l*b\n",
        "perimeter = 2(l+b)"
      ],
      "metadata": {
        "id": "hfxD3VTggxCS"
      }
    },
    {
      "cell_type": "code",
      "source": [
        "def rectangle(l,b):\n",
        "  area = l*b\n",
        "  perimeter = 2*(l+b)\n",
        "\n",
        "  print(\"Perimeter of Rectangle: \", perimeter)\n",
        "  print(\"Area of Rectangle: \", area)\n",
        "\n",
        "rectangle(5, 8)\n"
      ],
      "metadata": {
        "colab": {
          "base_uri": "https://localhost:8080/"
        },
        "id": "SLnn167bg-Do",
        "outputId": "858ebca4-afb7-4dd5-a192-0e44855806a4"
      },
      "execution_count": 25,
      "outputs": [
        {
          "output_type": "stream",
          "name": "stdout",
          "text": [
            "Perimeter of Rectangle:  26\n",
            "Area of Rectangle:  40\n"
          ]
        }
      ]
    },
    {
      "cell_type": "markdown",
      "source": [
        "Create a function which adds all the elements in the given group of members"
      ],
      "metadata": {
        "id": "dO2qhGigh1OA"
      }
    },
    {
      "cell_type": "code",
      "source": [
        "def all_sum(numbers):\n",
        "  sum=0\n",
        "\n",
        "  for i in numbers:\n",
        "    sum= sum+i\n",
        "\n",
        "  print(sum)\n",
        "\n",
        "all_sum((1,5,3,6,7))"
      ],
      "metadata": {
        "colab": {
          "base_uri": "https://localhost:8080/"
        },
        "id": "0ZlTUmFLh7vB",
        "outputId": "1a37b4e1-9535-4a5c-d936-82edc013db75"
      },
      "execution_count": 28,
      "outputs": [
        {
          "output_type": "stream",
          "name": "stdout",
          "text": [
            "22\n"
          ]
        }
      ]
    },
    {
      "cell_type": "markdown",
      "source": [
        "Create a function to accept three numbers as parameters and display the largest number out of the given numbers"
      ],
      "metadata": {
        "id": "FzD1Lg74LfYy"
      }
    },
    {
      "cell_type": "code",
      "source": [
        "def largest(a,b,c):\n",
        "  if (a>b) and (a>c):\n",
        "      print(a, \" is the largest\")\n",
        "\n",
        "  elif (b>a) and (b>c):\n",
        "      print(b, \" is the largest\")\n",
        "\n",
        "  else:\n",
        "    print(c, \" is the largest\")\n",
        "\n",
        "largest(85,77,66)"
      ],
      "metadata": {
        "colab": {
          "base_uri": "https://localhost:8080/"
        },
        "id": "Cl4sNnw4L2fh",
        "outputId": "b4b8e4b4-980c-4892-a496-2dbd759e9ebc"
      },
      "execution_count": 5,
      "outputs": [
        {
          "output_type": "stream",
          "name": "stdout",
          "text": [
            "85  is the largest\n"
          ]
        }
      ]
    }
  ]
}